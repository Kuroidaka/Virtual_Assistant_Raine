{
 "cells": [
  {
   "cell_type": "code",
   "execution_count": 7,
   "id": "d6926624-0b2a-43b3-83ec-11d5801fb711",
   "metadata": {},
   "outputs": [
    {
     "name": "stdout",
     "output_type": "stream",
     "text": [
      "Requirement already satisfied: requests in /Users/phamdoancanh/.pyenv/versions/3.10.0/lib/python3.10/site-packages (2.32.3)\n",
      "Requirement already satisfied: charset-normalizer<4,>=2 in /Users/phamdoancanh/.pyenv/versions/3.10.0/lib/python3.10/site-packages (from requests) (3.3.2)\n",
      "Requirement already satisfied: idna<4,>=2.5 in /Users/phamdoancanh/.pyenv/versions/3.10.0/lib/python3.10/site-packages (from requests) (3.6)\n",
      "Requirement already satisfied: urllib3<3,>=1.21.1 in /Users/phamdoancanh/.pyenv/versions/3.10.0/lib/python3.10/site-packages (from requests) (2.0.7)\n",
      "Requirement already satisfied: certifi>=2017.4.17 in /Users/phamdoancanh/.pyenv/versions/3.10.0/lib/python3.10/site-packages (from requests) (2024.2.2)\n"
     ]
    }
   ],
   "source": [
    "!pip install requests"
   ]
  },
  {
   "cell_type": "code",
   "execution_count": 8,
   "id": "f3c9e89b-4576-4a53-99df-ea264c4e75de",
   "metadata": {},
   "outputs": [],
   "source": [
    "import requests\n"
   ]
  },
  {
   "cell_type": "code",
   "execution_count": 16,
   "id": "dd186b52-9dcf-48bc-a4cf-f3bbd54de6be",
   "metadata": {},
   "outputs": [
    {
     "name": "stdout",
     "output_type": "stream",
     "text": [
      "Absolutely, Cảnh! How can I assist you today?\n"
     ]
    }
   ],
   "source": [
    "import requests\n",
    "import uuid\n",
    "\n",
    "# Generate a random prepareKey\n",
    "prepare_key = str(uuid.uuid4())\n",
    "\n",
    "# Define the API endpoint and the JSON body\n",
    "api_url = \"http://localhost:8001/api/v1/openai/ask\"\n",
    "json_body = {\n",
    "    \"data\": {\n",
    "        \"content\": \"raine you there\",\n",
    "        \"prepareKey\": prepare_key,\n",
    "        \"files\": []\n",
    "    },\n",
    "    \"maxToken\": 2000,\n",
    "    \"currentUser\": {\n",
    "        \"globalName\": \"Cảnh\",\n",
    "        \"username\": \".canh\"\n",
    "    },\n",
    "    \"type\": \"discord\"\n",
    "}\n",
    "\n",
    "# Make the POST request\n",
    "response = requests.post(api_url, json=json_body)\n",
    "\n",
    "# Check if the request was successful\n",
    "if response.status_code == 200:\n",
    "    # Parse the JSON response\n",
    "    data = response.json()\n",
    "    print(data[\"data\"] )\n",
    "else:\n",
    "    print(f\"Error: {response.status_code}\")\n",
    "    print(response.text)\n"
   ]
  },
  {
   "cell_type": "code",
   "execution_count": null,
   "id": "db2e6fb2-8268-4b5f-b6f4-12aad54a550e",
   "metadata": {},
   "outputs": [],
   "source": []
  }
 ],
 "metadata": {
  "kernelspec": {
   "display_name": "Python 3 (ipykernel)",
   "language": "python",
   "name": "python3"
  },
  "language_info": {
   "codemirror_mode": {
    "name": "ipython",
    "version": 3
   },
   "file_extension": ".py",
   "mimetype": "text/x-python",
   "name": "python",
   "nbconvert_exporter": "python",
   "pygments_lexer": "ipython3",
   "version": "3.10.0"
  }
 },
 "nbformat": 4,
 "nbformat_minor": 5
}
